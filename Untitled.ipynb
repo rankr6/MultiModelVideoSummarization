{
 "cells": [
  {
   "cell_type": "code",
   "execution_count": null,
   "id": "19adf288-d245-4937-a78e-6e25580a4c49",
   "metadata": {},
   "outputs": [],
   "source": []
  }
 ],
 "metadata": {
  "kernelspec": {
   "display_name": "",
   "name": ""
  },
  "language_info": {
   "name": ""
  }
 },
 "nbformat": 4,
 "nbformat_minor": 5
}
